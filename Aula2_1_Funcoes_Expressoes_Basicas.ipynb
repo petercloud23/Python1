{
 "cells": [
  {
   "cell_type": "code",
   "execution_count": null,
   "id": "3f2bccdb-748e-4ea4-b0ac-23442c5d6806",
   "metadata": {},
   "outputs": [],
   "source": [
    "#Basic Python Functions\n",
    "\n",
    "len(\"Python\")"
   ]
  },
  {
   "cell_type": "code",
   "execution_count": 7,
   "id": "cb8b2f88-1bef-4e1f-b37a-391c0168853c",
   "metadata": {},
   "outputs": [
    {
     "name": "stdin",
     "output_type": "stream",
     "text": [
      "Qual o seu nome? Peterson\n"
     ]
    }
   ],
   "source": [
    "#Utilizando funções para criar operações maiores\n",
    "\n",
    "name = input(\"Qual o seu nome?\")\n"
   ]
  },
  {
   "cell_type": "code",
   "execution_count": 8,
   "id": "18623adc-2400-4d70-8ddf-952b18075dc8",
   "metadata": {
    "jupyter": {
     "source_hidden": true
    }
   },
   "outputs": [
    {
     "name": "stdout",
     "output_type": "stream",
     "text": [
      "Olá Peterson!!!\n",
      "O seu nome tem  8  letras\n"
     ]
    }
   ],
   "source": [
    "print(\"Olá \" + name + \"!!!\")\n",
    "print(\"O seu nome tem \" , len(name) , \" letras\")"
   ]
  },
  {
   "cell_type": "code",
   "execution_count": 10,
   "id": "144822f1-cc5d-43a6-8e4e-3b34dca91c76",
   "metadata": {},
   "outputs": [
    {
     "name": "stdin",
     "output_type": "stream",
     "text": [
      "Qual o seu nome? Peter\n",
      "E sua idade? 47\n"
     ]
    },
    {
     "name": "stdout",
     "output_type": "stream",
     "text": [
      "O sr(a), Peter tem 47 anos de idade\n"
     ]
    }
   ],
   "source": [
    "#As funções \"len, input, print, etc. são fechadas, já predefinidas nas bilbliotecas padrões Python\n",
    "# Para criar um função própria, utilizamos a palavra-chave \"def\"\n",
    "\n",
    "def idade():\n",
    "    \"\"\"Uma função para dizer sua idade.\"\"\"\n",
    "    name = input(\"Qual o seu nome?\")\n",
    "    idade = input(\"E sua idade?\")\n",
    "    print(\"O sr(a),\", name, \"tem\", idade,\"anos de idade\") #lembre-se de acrescentar os espaços que serão impressos\n",
    "\n",
    "# Using the function\n",
    "idade()"
   ]
  },
  {
   "cell_type": "code",
   "execution_count": null,
   "id": "f20dff50-3e5b-4c29-81ae-c1c4c1eccee6",
   "metadata": {},
   "outputs": [],
   "source": []
  }
 ],
 "metadata": {
  "kernelspec": {
   "display_name": "Python [conda env:base] *",
   "language": "python",
   "name": "conda-base-py"
  },
  "language_info": {
   "codemirror_mode": {
    "name": "ipython",
    "version": 3
   },
   "file_extension": ".py",
   "mimetype": "text/x-python",
   "name": "python",
   "nbconvert_exporter": "python",
   "pygments_lexer": "ipython3",
   "version": "3.13.5"
  }
 },
 "nbformat": 4,
 "nbformat_minor": 5
}
