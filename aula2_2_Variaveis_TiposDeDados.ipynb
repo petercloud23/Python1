{
 "cells": [
  {
   "cell_type": "code",
   "execution_count": 1,
   "id": "3df6a01f-4cfc-4b60-8948-71980efff107",
   "metadata": {},
   "outputs": [
    {
     "data": {
      "text/plain": [
       "int"
      ]
     },
     "execution_count": 1,
     "metadata": {},
     "output_type": "execute_result"
    }
   ],
   "source": [
    "#Testando Variáveis e tipos de dados\n",
    "\n",
    "#Inteiro (Integer)\n",
    "type(15)"
   ]
  },
  {
   "cell_type": "code",
   "execution_count": 2,
   "id": "2e81ef18-ca08-453d-83d0-4d06a2429576",
   "metadata": {},
   "outputs": [
    {
     "data": {
      "text/plain": [
       "float"
      ]
     },
     "execution_count": 2,
     "metadata": {},
     "output_type": "execute_result"
    }
   ],
   "source": [
    "#Ponto Flutuante (Float)\n",
    "type(3.12)"
   ]
  },
  {
   "cell_type": "code",
   "execution_count": 3,
   "id": "62f8f4fc-bb44-4e27-866e-ff101ceda316",
   "metadata": {},
   "outputs": [
    {
     "data": {
      "text/plain": [
       "float"
      ]
     },
     "execution_count": 3,
     "metadata": {},
     "output_type": "execute_result"
    }
   ],
   "source": [
    "type(2/3)"
   ]
  },
  {
   "cell_type": "code",
   "execution_count": 5,
   "id": "c6dd0e50-8b9e-491f-b99e-553b41ef29bf",
   "metadata": {},
   "outputs": [
    {
     "data": {
      "text/plain": [
       "float"
      ]
     },
     "execution_count": 5,
     "metadata": {},
     "output_type": "execute_result"
    }
   ],
   "source": [
    "#cuidado, resultados de divisões inteiras também aparecerão como Float, pois é acrescentado\n",
    "# \" .0 \" ao resultado\n",
    "fracao = 4/2\n",
    "type(fracao)"
   ]
  },
  {
   "cell_type": "code",
   "execution_count": 6,
   "id": "9dfa137a-a23d-489f-a416-155691d1a402",
   "metadata": {},
   "outputs": [
    {
     "name": "stdout",
     "output_type": "stream",
     "text": [
      "2.0\n"
     ]
    }
   ],
   "source": [
    "print(fracao)"
   ]
  },
  {
   "cell_type": "code",
   "execution_count": 7,
   "id": "255bc62e-410a-473a-9cb9-f3ef0b58db6a",
   "metadata": {},
   "outputs": [
    {
     "data": {
      "text/plain": [
       "int"
      ]
     },
     "execution_count": 7,
     "metadata": {},
     "output_type": "execute_result"
    }
   ],
   "source": [
    "#neste caso podemos converter o tipo (declaração explícita de varíavel):\n",
    "fracao2 = int(4/2)\n",
    "type(fracao2)"
   ]
  },
  {
   "cell_type": "code",
   "execution_count": 8,
   "id": "ff7ca491-51ce-4f1c-bdba-3c93425737a9",
   "metadata": {},
   "outputs": [
    {
     "name": "stdout",
     "output_type": "stream",
     "text": [
      "2\n"
     ]
    }
   ],
   "source": [
    "print(fracao2)"
   ]
  },
  {
   "cell_type": "code",
   "execution_count": 9,
   "id": "8ea6a2e7-1ad1-4462-ac4b-215b4cf085b3",
   "metadata": {},
   "outputs": [
    {
     "name": "stdout",
     "output_type": "stream",
     "text": [
      "10\n"
     ]
    },
    {
     "data": {
      "text/plain": [
       "str"
      ]
     },
     "execution_count": 9,
     "metadata": {},
     "output_type": "execute_result"
    }
   ],
   "source": [
    "#cuidado, \"10\" é diferente de 10\n",
    "num = \"10\"\n",
    "print(num)\n",
    "type(num)"
   ]
  },
  {
   "cell_type": "code",
   "execution_count": 10,
   "id": "3c872c82-412c-43c4-b4a5-281c01d2545f",
   "metadata": {},
   "outputs": [
    {
     "name": "stdout",
     "output_type": "stream",
     "text": [
      "1010\n"
     ]
    },
    {
     "data": {
      "text/plain": [
       "str"
      ]
     },
     "execution_count": 10,
     "metadata": {},
     "output_type": "execute_result"
    }
   ],
   "source": [
    "mult = 2*num\n",
    "print(mult)\n",
    "type(mult)"
   ]
  },
  {
   "cell_type": "code",
   "execution_count": 11,
   "id": "f60536f8-1f40-44ca-8ec1-c494e3014d1a",
   "metadata": {},
   "outputs": [
    {
     "name": "stdout",
     "output_type": "stream",
     "text": [
      "10\n"
     ]
    },
    {
     "data": {
      "text/plain": [
       "int"
      ]
     },
     "execution_count": 11,
     "metadata": {},
     "output_type": "execute_result"
    }
   ],
   "source": [
    "num2 = 10\n",
    "print(num2)\n",
    "type(num2)"
   ]
  },
  {
   "cell_type": "code",
   "execution_count": 12,
   "id": "0dd847ff-ea55-4291-89e9-c72d298738e9",
   "metadata": {},
   "outputs": [
    {
     "name": "stdout",
     "output_type": "stream",
     "text": [
      "20\n"
     ]
    },
    {
     "data": {
      "text/plain": [
       "int"
      ]
     },
     "execution_count": 12,
     "metadata": {},
     "output_type": "execute_result"
    }
   ],
   "source": [
    "mult2 = 2*num2\n",
    "print(mult2)\n",
    "type(mult2)"
   ]
  },
  {
   "cell_type": "code",
   "execution_count": 13,
   "id": "57d4ad39-a2a6-4c73-a31d-2b8b1ae5df69",
   "metadata": {},
   "outputs": [
    {
     "name": "stdout",
     "output_type": "stream",
     "text": [
      "Neo é uma personagem do filme Matrix, de 1999\n"
     ]
    }
   ],
   "source": [
    "#Cadeia de Caracteres (String)\n",
    "name = \"Neo\"\n",
    "film = \"Matrix, de 1999\"\n",
    "print (name + \" é uma personagem do filme \" + film)"
   ]
  },
  {
   "cell_type": "code",
   "execution_count": 9,
   "id": "e605f60b-456f-4a5a-ae54-fb8dde7aec37",
   "metadata": {},
   "outputs": [],
   "source": [
    "#Em Python, aspas simples, duplas e triplas são usadas para delimitar strings.\n",
    "#Embora todas desempenhem a mesma função, são usadas de maneiras diferentes, \n",
    "#geralmente dependendo da preferência do usuário.\n",
    "\n",
    "#Aspas simples são normalmente usadas para strings mais curtas.\n",
    "#Aspas duplas podem ser usadas de forma intercambiável com aspas simples, mas são úteis para diferenciação quando uma string já contém uma aspa simples.\n",
    "#Aspas triplas são frequentemente usadas para docstrings (que exploraremos mais tarde) ou strings que abrangem várias linhas.\n"
   ]
  },
  {
   "cell_type": "code",
   "execution_count": 14,
   "id": "87a0107c-fbbf-46af-a9a4-8f30b03e8ecb",
   "metadata": {},
   "outputs": [
    {
     "name": "stdout",
     "output_type": "stream",
     "text": [
      "True\n",
      "False\n",
      "5\n",
      "False\n"
     ]
    },
    {
     "data": {
      "text/plain": [
       "bool"
      ]
     },
     "execution_count": 14,
     "metadata": {},
     "output_type": "execute_result"
    }
   ],
   "source": [
    "#Booleano (Boolean)\n",
    "x=10\n",
    "y=5\n",
    "isGreater = x>y\n",
    "isEqual_Correct = x==y\n",
    "isEqual_Wrong = x=y\n",
    "isSmaller = x<y\n",
    "\n",
    "print(isGreater)\n",
    "print(isEqual_Correct)\n",
    "print(isEqual_Wrong)\n",
    "print(isSmaller)\n",
    "\n",
    "type(isGreater)"
   ]
  },
  {
   "cell_type": "code",
   "execution_count": 15,
   "id": "36c4bcbf-5fec-462f-b33f-4f936a4164b3",
   "metadata": {},
   "outputs": [
    {
     "data": {
      "text/plain": [
       "bool"
      ]
     },
     "execution_count": 15,
     "metadata": {},
     "output_type": "execute_result"
    }
   ],
   "source": [
    "type(isEqual_Correct)"
   ]
  },
  {
   "cell_type": "code",
   "execution_count": 16,
   "id": "1e1046f2-0926-435c-b051-5a23e7d8fc1e",
   "metadata": {},
   "outputs": [
    {
     "data": {
      "text/plain": [
       "int"
      ]
     },
     "execution_count": 16,
     "metadata": {},
     "output_type": "execute_result"
    }
   ],
   "source": [
    "type(isEqual_Wrong)"
   ]
  },
  {
   "cell_type": "code",
   "execution_count": 17,
   "id": "bc8758a7-6c84-4361-89f9-a341f313868a",
   "metadata": {},
   "outputs": [
    {
     "data": {
      "text/plain": [
       "bool"
      ]
     },
     "execution_count": 17,
     "metadata": {},
     "output_type": "execute_result"
    }
   ],
   "source": [
    "type(isSmaller)"
   ]
  },
  {
   "cell_type": "code",
   "execution_count": 17,
   "id": "ba9b116d-5d51-490a-848f-4fa71d3b4fa6",
   "metadata": {},
   "outputs": [
    {
     "name": "stdout",
     "output_type": "stream",
     "text": [
      "Aproveite o Clima!\n"
     ]
    }
   ],
   "source": [
    "#Exemplo de Uso com Condicional SE/ENTÃO (IF/ELSE)\n",
    "chuva = False # O Python é Case Sensitive: \"True/False\" é correto, \"true/false\" não é\n",
    "\n",
    "if chuva:\n",
    "    print(\"Pegue seu guarda-chuvas!\")\n",
    "else:\n",
    "    print(\"Aproveite o Clima!\")"
   ]
  },
  {
   "cell_type": "code",
   "execution_count": 2,
   "id": "7964a0eb-b6a8-47b8-9ffa-4b719efc7136",
   "metadata": {},
   "outputs": [
    {
     "name": "stdout",
     "output_type": "stream",
     "text": [
      "<class 'complex'>\n"
     ]
    }
   ],
   "source": [
    "# Números complexos (Complex Number)\n",
    "# Precisamos importar a biblioteca \"cmath\" para habilitar operações com complex numbers \n",
    "# Vamos criar o número 5 + 10j e armazenar em uma variável\n",
    "import cmath\n",
    "\n",
    "# Initializing complex number\n",
    "my_complex_number = 5 + 10j \n",
    "print(type(my_complex_number))"
   ]
  },
  {
   "cell_type": "code",
   "execution_count": 3,
   "id": "c502c556-c160-48fc-b9c6-bb3dc936eecb",
   "metadata": {},
   "outputs": [
    {
     "name": "stdout",
     "output_type": "stream",
     "text": [
      "A parte real do número complexo é : 5.0\n",
      "A parte imaginária do número complexo é : 10.0\n"
     ]
    }
   ],
   "source": [
    "# Separando as partes do Número Complexo\n",
    "print(\"A parte real do número complexo é : \", end=\"\")\n",
    "print(my_complex_number.real)\n",
    " \n",
    "print(\"A parte imaginária do número complexo é : \", end=\"\")\n",
    "print(my_complex_number.imag)"
   ]
  },
  {
   "cell_type": "code",
   "execution_count": 5,
   "id": "984d6b98-be42-4891-ace1-f46093eb9b4f",
   "metadata": {},
   "outputs": [
    {
     "name": "stdout",
     "output_type": "stream",
     "text": [
      "A parte real do número complexo é : \n",
      "5.0\n",
      "A parte imaginária do número complexo é : \n",
      "10.0\n"
     ]
    }
   ],
   "source": [
    "#Obs: Se você não usasse end=\"\", a saída ficaria assim:\n",
    "print(\"A parte real do número complexo é : \")\n",
    "print(my_complex_number.real)\n",
    " \n",
    "print(\"A parte imaginária do número complexo é : \")\n",
    "print(my_complex_number.imag)"
   ]
  },
  {
   "cell_type": "code",
   "execution_count": 8,
   "id": "d21c4f3f-5b72-4271-89cd-b4c9ea0a02bf",
   "metadata": {},
   "outputs": [
    {
     "name": "stdout",
     "output_type": "stream",
     "text": [
      "O número complexo é: (1080+0.5j)\n"
     ]
    }
   ],
   "source": [
    "#A seguir outro método usado para criar e trabalhar com um número complexo \n",
    "# importando \"cmath\" para operações com complex numbers\n",
    "import cmath\n",
    "\n",
    "# Inicializando como números reais\n",
    "x = 1080.0\n",
    "y = 0.5\n",
    " \n",
    "# convertendo x e y em complex numbers (declaração explícita de variáveis)\n",
    "my_complex_number = complex(x,y)\n",
    "\n",
    "print (\"O número complexo é:\",  my_complex_number)"
   ]
  },
  {
   "cell_type": "code",
   "execution_count": 18,
   "id": "bc12819c-259b-48d5-a821-6e62c507f7b3",
   "metadata": {},
   "outputs": [
    {
     "name": "stdout",
     "output_type": "stream",
     "text": [
      "Tipo de dados da variável 'numerosPrimos': <class 'list'>\n"
     ]
    }
   ],
   "source": [
    "#Listas (List)\n",
    "numerosPrimos = [2, 3, 5, 7]\n",
    "print(\"Tipo de dados da variável 'numerosPrimos':\", type(numerosPrimos))"
   ]
  },
  {
   "cell_type": "code",
   "execution_count": null,
   "id": "4508125e-70fe-49cd-b999-315fea168e1a",
   "metadata": {},
   "outputs": [],
   "source": [
    "#Dictionary (Dicionário)\n",
    "#Em Python, um dictionary é um tipo de dado que armazena pares chave (ou label):valor, permitindo acesso,\n",
    "#inserção e atualização rápida de valores a partir de suas chaves únicas.\n"
   ]
  }
 ],
 "metadata": {
  "kernelspec": {
   "display_name": "Python [conda env:base] *",
   "language": "python",
   "name": "conda-base-py"
  },
  "language_info": {
   "codemirror_mode": {
    "name": "ipython",
    "version": 3
   },
   "file_extension": ".py",
   "mimetype": "text/x-python",
   "name": "python",
   "nbconvert_exporter": "python",
   "pygments_lexer": "ipython3",
   "version": "3.13.5"
  }
 },
 "nbformat": 4,
 "nbformat_minor": 5
}
