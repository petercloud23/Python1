{
 "cells": [
  {
   "cell_type": "markdown",
   "metadata": {},
   "source": [
    "# Welcome!\n",
    "\n",
    "The first coding task to start with is the print() function.\n",
    "This function prompts the interpreter to store the text you provide.\n",
    "Let's try it.\n",
    "\n",
    "Here's an example of the print() function in action. Select the following cell and click the 'Run' button to see the output."
   ]
  },
  {
   "cell_type": "code",
   "execution_count": 1,
   "metadata": {},
   "outputs": [
    {
     "name": "stdout",
     "output_type": "stream",
     "text": [
      "Hello, World!\n"
     ]
    }
   ],
   "source": [
    "print(\"Hello, World!\")"
   ]
  },
  {
   "cell_type": "markdown",
   "metadata": {},
   "source": [
    "Now, try creating your own input.\n",
    "Make sure to use correct syntax, including parentheses and quotations.\n",
    "You can create any input using this function.\n",
    "You can then print this input using the print() function and clicking the 'Run' button.\n",
    "\n",
    "Here's an example of the input() function and the print() function in action."
   ]
  },
  {
   "cell_type": "code",
   "execution_count": 2,
   "metadata": {},
   "outputs": [
    {
     "name": "stdout",
     "output_type": "stream",
     "text": [
      "What is your name? Q\n",
      "Q, welcome to your first coding task!\n"
     ]
    }
   ],
   "source": [
    "name = input(\"What is your name? \")\n",
    "greeting = name + \", welcome to your first coding task!\"\n",
    "print(greeting)"
   ]
  },
  {
   "cell_type": "markdown",
   "metadata": {},
   "source": [
    "Now, try printing your own text (also known as a 'string' in Python).\n",
    "Make sure to use correct syntax, including parentheses and quotations."
   ]
  }
 ],
 "metadata": {
  "kernelspec": {
   "display_name": "Python 3",
   "language": "python",
   "name": "python3"
  },
  "language_info": {
   "codemirror_mode": {
    "name": "ipython",
    "version": 3
   },
   "file_extension": ".py",
   "mimetype": "text/x-python",
   "name": "python",
   "nbconvert_exporter": "python",
   "pygments_lexer": "ipython3",
   "version": "3.7.6"
  }
 },
 "nbformat": 4,
 "nbformat_minor": 4
}
