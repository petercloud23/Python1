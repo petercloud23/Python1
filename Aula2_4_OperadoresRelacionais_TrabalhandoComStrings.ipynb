{
 "cells": [
  {
   "cell_type": "code",
   "execution_count": 2,
   "id": "9e505ab6-88bb-4a2c-b328-f7da8644de15",
   "metadata": {},
   "outputs": [
    {
     "name": "stdout",
     "output_type": "stream",
     "text": [
      "True\n",
      "True\n",
      "False\n"
     ]
    }
   ],
   "source": [
    "#Operadores Relacionais ou de comparação retornam Verdeiro (True) ou Falso (False)\n",
    "# == Igual a\n",
    "# != Diferente de\n",
    "# < Menor que\n",
    "# > Maior que\n",
    "# <= Menor igual que\n",
    "# >= Maior igual que\n",
    "\n",
    "#Exemplo:\n",
    "x= 7\n",
    "y= 10\n",
    "comparacao = x==7\n",
    "comparacao1 = x<y\n",
    "comparacao2 = x>y\n",
    "print(comparacao)\n",
    "print(comparacao1)\n",
    "print(comparacao2)"
   ]
  },
  {
   "cell_type": "code",
   "execution_count": 15,
   "id": "f2544f6e-4ac0-4abf-a468-50aea141a949",
   "metadata": {},
   "outputs": [
    {
     "name": "stdout",
     "output_type": "stream",
     "text": [
      "True\n",
      "False\n",
      "True\n",
      "True\n",
      "True\n",
      "True\n"
     ]
    }
   ],
   "source": [
    "#Trabalhando comparação com Strings\n",
    "\n",
    "print(\"banana\" == \"banana\")   # True\n",
    "print(\"banana\" == \"Banana\")   # False (maiúscula ≠ minúscula)\n",
    "print(\"apple\" < \"banana\")     # True (\"a\" vem antes de \"b\")\n",
    "print(\"car\" > \"banana\")       # True (\"c\" vem depois de \"b\")\n",
    "print(\"abc\" < \"abcd\")         # True (mesmo prefixo, mas \"abcd\" é maior)\n",
    "print(\"banana\" != \"maçã\")     # True (primeira string ≠ segunda string)"
   ]
  },
  {
   "cell_type": "code",
   "execution_count": 11,
   "id": "90aac192-6771-4bf3-a4b2-f7050b6080ce",
   "metadata": {},
   "outputs": [
    {
     "name": "stdout",
     "output_type": "stream",
     "text": [
      "False\n"
     ]
    }
   ],
   "source": [
    "#Dicas:\n",
    "\n",
    "#1) Usando os métodos 'upper()' (Tornar maiúsculas) ou 'lower()' (tornar minúsculas) para contornar\n",
    "#o fator 'case sensitive':\n",
    "name1 = \"Python\"\n",
    "name2 = \"python\"\n",
    "result = name1 == name2\n",
    "print(result)  # False\n"
   ]
  },
  {
   "cell_type": "code",
   "execution_count": 12,
   "id": "7fbf4f03-38b2-4c67-ad65-ee056016c51d",
   "metadata": {},
   "outputs": [
    {
     "name": "stdout",
     "output_type": "stream",
     "text": [
      "True\n",
      "Python\n",
      "python\n"
     ]
    }
   ],
   "source": [
    "result2 = name1.lower()==name2.lower()\n",
    "print(result2) #True\n",
    "\n",
    "#transformamos todas as palavras da comparação em minúsculas, mas só dentro da variável 'result2'\n",
    "#para efeito de comparação. Veja abaixo, a variável 'name1' não alterou seu valor:\n",
    "\n",
    "print(name1)\n",
    "\n",
    "#Podemos armazenar a string em minúsculo numa nova variável, como no caso abaixo:\n",
    "\n",
    "nameMinusculo = name1.lower()\n",
    "print(nameMinusculo)"
   ]
  },
  {
   "cell_type": "code",
   "execution_count": 13,
   "id": "8b04e302-8ec5-409b-832a-de86b5bf32cc",
   "metadata": {},
   "outputs": [
    {
     "name": "stdout",
     "output_type": "stream",
     "text": [
      "Python\n",
      "python\n",
      "True\n"
     ]
    }
   ],
   "source": [
    "# ou com upper():\n",
    "\n",
    "print(name1)\n",
    "print(name2)\n",
    "result3 = name1.upper()==name2.upper()\n",
    "print(result3) #True, apesar de uma ser originalmente maiúscula e a outra minúscula"
   ]
  },
  {
   "cell_type": "code",
   "execution_count": 14,
   "id": "86118f6a-d24e-433d-9995-0c6a2b4ec28d",
   "metadata": {},
   "outputs": [
    {
     "name": "stdout",
     "output_type": "stream",
     "text": [
      "python\n",
      "PYTHON\n"
     ]
    }
   ],
   "source": [
    "#Do mesmo jeito, transformamos todas as palavras da comparação em maiúsculas, mas só dentro da variável 'result3'\n",
    "#para efeito de comparação. Veja abaixo, a variável 'name2' não alterou seu valor:\n",
    "\n",
    "print(name2)\n",
    "\n",
    "#Do mesmo modo também, podemos armazenar a string em maiúsculo numa nova variável, como no caso abaixo:\n",
    "\n",
    "nameMaiusculo = name2.upper()\n",
    "print(nameMaiusculo)"
   ]
  },
  {
   "cell_type": "code",
   "execution_count": 16,
   "id": "a6f2a87a-bbca-4f7a-a124-a3a710cd93bc",
   "metadata": {},
   "outputs": [
    {
     "name": "stdout",
     "output_type": "stream",
     "text": [
      "Python\n"
     ]
    }
   ],
   "source": [
    "#Por padrão, 'lower()' transforma TODA a string em minúscula e 'upper()' transforma TODA a string em maiúscula.\n",
    "#Mas,o Python já oferece métodos que ajudam com capitalização:\n",
    "\n",
    "#1) capitalize() → primeira letra maiúscula, resto minúsculo.\n",
    "print(\"python\".capitalize())  # Python\n"
   ]
  },
  {
   "cell_type": "code",
   "execution_count": 17,
   "id": "4bba1089-fc11-4462-8db5-326f2d8d4b2a",
   "metadata": {},
   "outputs": [
    {
     "name": "stdout",
     "output_type": "stream",
     "text": [
      "Linguagem Python\n"
     ]
    }
   ],
   "source": [
    "#2) title() → primeira letra maiúscula em cada palavra.\n",
    "\n",
    "print(\"linguagem python\".title())  # Linguagem Python"
   ]
  },
  {
   "cell_type": "code",
   "execution_count": 22,
   "id": "ae951097-945d-4881-a1b3-29ee4700de7e",
   "metadata": {},
   "outputs": [],
   "source": [
    "#Exemplo prático:  função personalizada que recebe qualquer string e retorna a versão com primeira\n",
    "#letra minúscula ou maiúscula, dependendo do que você escolher\n",
    "\n",
    "def primeira_letra(texto, maiuscula=True):\n",
    "    \"\"\"\n",
    "    Formata a primeira letra de uma string como maiúscula ou minúscula.\n",
    "\n",
    "    :parâmetro 1 - texto: A string a ser formatada.\n",
    "    :parâmetro 2 - maiuscula: Booleano que define se a primeira letra deve ser maiúscula (True) ou minúscula (False).\n",
    "    :return: String formatada.\n",
    "    \"\"\"\n",
    "    if not texto:  # Se a string for vazia\n",
    "        return texto\n",
    "    \n",
    "    if maiuscula:\n",
    "        return texto.capitalize()\n",
    "    else:\n",
    "        return texto.lower()\n"
   ]
  },
  {
   "cell_type": "code",
   "execution_count": 24,
   "id": "26392fb9-f488-4f39-8191-965ea19a8ac0",
   "metadata": {},
   "outputs": [
    {
     "name": "stdout",
     "output_type": "stream",
     "text": [
      "Python\n",
      "python\n",
      "Curso de python\n"
     ]
    }
   ],
   "source": [
    "print(primeira_letra(\"python\", maiuscula=True))   # Python\n",
    "print(primeira_letra(\"Python\", maiuscula=False))  # python\n",
    "print(primeira_letra(\"curso de Python\"))          # Curso de Python (maiuscula=True é o padrão)\n"
   ]
  },
  {
   "cell_type": "code",
   "execution_count": 25,
   "id": "506261d2-beb5-4bbf-bf96-e4e2316405b9",
   "metadata": {},
   "outputs": [
    {
     "name": "stdout",
     "output_type": "stream",
     "text": [
      "0\n"
     ]
    }
   ],
   "source": [
    "#Podemos ainda usar os valores de um comparação, sendo 'True'=1 e 'False'=0, veja:\n",
    "chocolate_madagascar = 4.5\n",
    "chocolate_brazil = 4.5\n",
    "\n",
    "chocolate_ratings = 5*(chocolate_madagascar != chocolate_brazil)\n",
    "print(chocolate_ratings)"
   ]
  },
  {
   "cell_type": "code",
   "execution_count": 26,
   "id": "9e64bed0-5282-4679-a025-877c6b24f82b",
   "metadata": {},
   "outputs": [
    {
     "name": "stdout",
     "output_type": "stream",
     "text": [
      "5\n"
     ]
    }
   ],
   "source": [
    "\n",
    "chocolate_madagascar = 4.5\n",
    "chocolate_brazil = 4.5\n",
    "\n",
    "chocolate_ratings = 5*(chocolate_madagascar == chocolate_brazil)\n",
    "print(chocolate_ratings)"
   ]
  },
  {
   "cell_type": "code",
   "execution_count": 30,
   "id": "37e00321-a3e1-46f3-892b-4aef12d43a13",
   "metadata": {},
   "outputs": [
    {
     "name": "stdout",
     "output_type": "stream",
     "text": [
      "True\n",
      "False\n"
     ]
    }
   ],
   "source": [
    "#Se imprimirmos somente o valor da variável 'chocolate_ratings' sem aplicar uma operação, como a multiplicação \n",
    "#por 5 que fizemos, teremos o resultado em 'True' ou 'False\":\n",
    "\n",
    "chocolate_ratings2 = chocolate_madagascar == chocolate_brazil\n",
    "print(chocolate_ratings2)\n",
    "\n",
    "chocolate_ratings3 = chocolate_madagascar != chocolate_brazil\n",
    "print(chocolate_ratings3)"
   ]
  },
  {
   "cell_type": "code",
   "execution_count": 2,
   "id": "e9eb6920-a9fc-4510-86af-856a536a25b7",
   "metadata": {},
   "outputs": [
    {
     "name": "stdin",
     "output_type": "stream",
     "text": [
      "Em qual país você nasceu? Brásil\n"
     ]
    },
    {
     "name": "stdout",
     "output_type": "stream",
     "text": [
      "Você é estrangeiro(a)\n"
     ]
    }
   ],
   "source": [
    "nacionalidade = input(\"Em qual país você nasceu?\")\n",
    "#Para que toda a forma que responderem \"Brasil\" seja reconhecida pelo interpretador, usamos 'strip()' para retirar\n",
    "#qualquer espaço antes ou depois que a pessoa digite junto com Brasil, e 'lower' para que não seja considerado\n",
    "#se a pessoa usou maiúsculas, pois no fim colocamos tudo em minúscula pra verificar somente se é \"brasil\"\n",
    "if nacionalidade.strip().lower() == \"brasil\": \n",
    "    print(\"Você é brasileiro(a)\")\n",
    "else:\n",
    "    print(\"Você é estrangeiro(a)\")"
   ]
  },
  {
   "cell_type": "code",
   "execution_count": 5,
   "id": "a770e491-4b45-482c-baff-6c20fc85c46b",
   "metadata": {},
   "outputs": [
    {
     "name": "stdin",
     "output_type": "stream",
     "text": [
      "Em qual país você nasceu? BrásïL  \n"
     ]
    },
    {
     "name": "stdout",
     "output_type": "stream",
     "text": [
      "Você é brasileiro(a)\n"
     ]
    }
   ],
   "source": [
    "#E se a pessoa digitar para nacionalidade, no exemplo acima, Brasil com acento? Faça o teste\n",
    "#Para desconsider agora os possíveis acentos, junto com espaços e maiúsculas/minúsculas, precisamos\n",
    "#instalar e utilizar a biblioteca 'unidecode', e a função unidecode(texto) para removem os sinais diacríticos,\n",
    "#(como acentos, cedilhas e trema), transformando caracteres como 'á' em 'a'. \n",
    "\n",
    "from unidecode import unidecode #se a biblioteca 'unicode' não estiver disponível, utilize 'pip install unidecode'\n",
    "\n",
    "nacionalidade2 = input(\"Em qual país você nasceu?\")\n",
    "\n",
    "nacionalidade_normalizada = unidecode(nacionalidade2)\n",
    "\n",
    "if nacionalidade_normalizada.strip().lower() == \"brasil\": \n",
    "    print(\"Você é brasileiro(a)\")\n",
    "else:\n",
    "    print(\"Você é estrangeiro(a)\")\n"
   ]
  },
  {
   "cell_type": "code",
   "execution_count": 6,
   "id": "71508b42-c7b6-4b9e-84eb-92153fe253c2",
   "metadata": {},
   "outputs": [
    {
     "name": "stdout",
     "output_type": "stream",
     "text": [
      "Peca um otimo cafe!\n"
     ]
    }
   ],
   "source": [
    "#exemplo 2 do uso do 'unicode'\n",
    "texto_original = \"Peça um ótimo café!\"\n",
    "texto_processado = unidecode(texto_original)\n",
    "print(texto_processado) # Saída: Peca um otimo cafe!"
   ]
  },
  {
   "cell_type": "code",
   "execution_count": null,
   "id": "7f85fa36-2d5d-4ae1-9b26-0e21502dbfff",
   "metadata": {},
   "outputs": [],
   "source": []
  },
  {
   "cell_type": "code",
   "execution_count": null,
   "id": "4bccbb88-2a98-4cc3-96dd-1bdf3b8a996e",
   "metadata": {},
   "outputs": [],
   "source": []
  }
 ],
 "metadata": {
  "kernelspec": {
   "display_name": "Python [conda env:base] *",
   "language": "python",
   "name": "conda-base-py"
  },
  "language_info": {
   "codemirror_mode": {
    "name": "ipython",
    "version": 3
   },
   "file_extension": ".py",
   "mimetype": "text/x-python",
   "name": "python",
   "nbconvert_exporter": "python",
   "pygments_lexer": "ipython3",
   "version": "3.13.5"
  }
 },
 "nbformat": 4,
 "nbformat_minor": 5
}
