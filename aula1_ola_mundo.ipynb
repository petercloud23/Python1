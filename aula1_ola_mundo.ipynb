{
 "cells": [
  {
   "cell_type": "code",
   "execution_count": 1,
   "id": "57afb5d1-1e9b-4d83-9966-8cd88d0fc487",
   "metadata": {
    "panel-layout": {
     "height": 0,
     "visible": true,
     "width": 100
    }
   },
   "outputs": [
    {
     "name": "stdout",
     "output_type": "stream",
     "text": [
      "olá mundo!!!\n"
     ]
    }
   ],
   "source": [
    "#Primeiro exemplo de Notebook\n",
    "\n",
    "#Comentários de uma linha marcamos com uma hashtag no início da frase\n",
    "\n",
    "'''Comentário de várias linhas,\n",
    "Abrimos e fechamos com \n",
    "três aspas duplas, ou aspas simples, seguidas'''\n",
    "\n",
    "#--------------------------------------------------#\n",
    "\n",
    "print(\"olá mundo!!!\")"
   ]
  },
  {
   "cell_type": "code",
   "execution_count": null,
   "id": "29f2c039-b96a-4b63-be0f-0a9cde2e48dc",
   "metadata": {},
   "outputs": [],
   "source": []
  },
  {
   "cell_type": "code",
   "execution_count": null,
   "id": "bc2d5303-b9e2-4bed-8b6b-6daeb4f32887",
   "metadata": {},
   "outputs": [],
   "source": []
  }
 ],
 "metadata": {
  "kernelspec": {
   "display_name": "Python [conda env:base] *",
   "language": "python",
   "name": "conda-base-py"
  },
  "language_info": {
   "codemirror_mode": {
    "name": "ipython",
    "version": 3
   },
   "file_extension": ".py",
   "mimetype": "text/x-python",
   "name": "python",
   "nbconvert_exporter": "python",
   "pygments_lexer": "ipython3",
   "version": "3.13.5"
  },
  "panel-cell-order": [
   "57afb5d1-1e9b-4d83-9966-8cd88d0fc487"
  ]
 },
 "nbformat": 4,
 "nbformat_minor": 5
}
