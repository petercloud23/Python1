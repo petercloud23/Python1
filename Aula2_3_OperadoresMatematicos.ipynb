{
 "cells": [
  {
   "cell_type": "code",
   "execution_count": 15,
   "id": "2dadfb1b-0e59-4239-b1bd-e8e17d8931d1",
   "metadata": {},
   "outputs": [
    {
     "name": "stdout",
     "output_type": "stream",
     "text": [
      "(3, 2)\n"
     ]
    },
    {
     "data": {
      "text/plain": [
       "tuple"
      ]
     },
     "execution_count": 15,
     "metadata": {},
     "output_type": "execute_result"
    }
   ],
   "source": [
    "#Número decimal\n",
    "exemplo = 3,2 #errado\n",
    "print(exemplo)\n",
    "type(exemplo) #vai ser reconhecido como um tupla (um tipo de lista imutável) , e não como o número '3,2'"
   ]
  },
  {
   "cell_type": "code",
   "execution_count": 17,
   "id": "7ea8c3c8-d6ac-4532-a96e-ef868f0bc682",
   "metadata": {},
   "outputs": [
    {
     "name": "stdout",
     "output_type": "stream",
     "text": [
      "3.2\n"
     ]
    },
    {
     "data": {
      "text/plain": [
       "float"
      ]
     },
     "execution_count": 17,
     "metadata": {},
     "output_type": "execute_result"
    }
   ],
   "source": [
    "exemplo = 3.2 #correto\n",
    "print(exemplo)\n",
    "type(exemplo)"
   ]
  },
  {
   "cell_type": "code",
   "execution_count": 1,
   "id": "d8a61423-55f1-4443-8e92-85f65b68bf5d",
   "metadata": {},
   "outputs": [
    {
     "data": {
      "text/plain": [
       "58"
      ]
     },
     "execution_count": 1,
     "metadata": {},
     "output_type": "execute_result"
    }
   ],
   "source": [
    "#adição\n",
    "31+27"
   ]
  },
  {
   "cell_type": "code",
   "execution_count": 5,
   "id": "97c3dade-cf61-4ab4-875d-f97aea05d30f",
   "metadata": {},
   "outputs": [
    {
     "name": "stdin",
     "output_type": "stream",
     "text": [
      "Digite o primeiro número:  10\n",
      "Digite o segundo número:  5\n"
     ]
    },
    {
     "name": "stdout",
     "output_type": "stream",
     "text": [
      "A soma de  10 e  5 é igual a:  105\n"
     ]
    }
   ],
   "source": [
    "#Usando variáveis\n",
    "num1 = input(\"Digite o primeiro número: \")\n",
    "num2 = input(\"Digite o segundo número: \")\n",
    "soma = num1+num2\n",
    "print(\"A soma de \",num1,\"e \",num2, \"é igual a: \", soma)"
   ]
  },
  {
   "cell_type": "code",
   "execution_count": 6,
   "id": "4ff584ba-fa15-41ee-a23a-5d871ce56a64",
   "metadata": {},
   "outputs": [
    {
     "name": "stdin",
     "output_type": "stream",
     "text": [
      "Digite o primeiro número:  10\n",
      "Digite o segundo número:  5\n"
     ]
    },
    {
     "name": "stdout",
     "output_type": "stream",
     "text": [
      "A soma de  10.0 e  5.0 é igual a:  15.0\n"
     ]
    }
   ],
   "source": [
    "#Percebeu algo estranho? Como consertar?\n",
    "num1 = float(input(\"Digite o primeiro número: \"))\n",
    "num2 = float(input(\"Digite o segundo número: \")) #precisamos declarar explicitamente as variáveis como numéricas\n",
    "soma = num1+num2\n",
    "print(\"A soma de \",num1,\"e \",num2, \"é igual a: \", soma)"
   ]
  },
  {
   "cell_type": "code",
   "execution_count": 9,
   "id": "6a20d0b5-be0f-4f18-b30c-9aa7b08ff05c",
   "metadata": {},
   "outputs": [
    {
     "data": {
      "text/plain": [
       "8"
      ]
     },
     "execution_count": 9,
     "metadata": {},
     "output_type": "execute_result"
    }
   ],
   "source": [
    "#Subtração\n",
    "10-2"
   ]
  },
  {
   "cell_type": "code",
   "execution_count": 12,
   "id": "9713a5fe-61cf-4f8e-8ec1-375d9c93813c",
   "metadata": {},
   "outputs": [
    {
     "name": "stdin",
     "output_type": "stream",
     "text": [
      "Digite o primeiro número:  5.3\n",
      "Digite o segundo número:  8\n"
     ]
    },
    {
     "name": "stdout",
     "output_type": "stream",
     "text": [
      "A soma de  5.3 e  8.0 é igual a:  -2.7\n"
     ]
    }
   ],
   "source": [
    "#Usando variáveis\n",
    "num3 = float(input(\"Digite o primeiro número: \"))\n",
    "num4 = float(input(\"Digite o segundo número: \"))\n",
    "subtracao = num3-num4\n",
    "print(\"A soma de \",num3,\"e \",num4, \"é igual a: \", subtracao)"
   ]
  },
  {
   "cell_type": "code",
   "execution_count": 7,
   "id": "b0351d7c-565e-418a-8f50-1e5534e8da32",
   "metadata": {},
   "outputs": [
    {
     "data": {
      "text/plain": [
       "10"
      ]
     },
     "execution_count": 7,
     "metadata": {},
     "output_type": "execute_result"
    }
   ],
   "source": [
    "#Multiplicação\n",
    "5*2"
   ]
  },
  {
   "cell_type": "code",
   "execution_count": 20,
   "id": "224b5b25-b05e-44fb-932a-9cc2fd9f135f",
   "metadata": {},
   "outputs": [
    {
     "data": {
      "text/plain": [
       "3.3333333333333335"
      ]
     },
     "execution_count": 20,
     "metadata": {},
     "output_type": "execute_result"
    }
   ],
   "source": [
    "#Divisão\n",
    "10/3"
   ]
  },
  {
   "cell_type": "code",
   "execution_count": 21,
   "id": "d961c0a6-3e1e-4ec1-869e-d997913d5a4a",
   "metadata": {},
   "outputs": [
    {
     "data": {
      "text/plain": [
       "1"
      ]
     },
     "execution_count": 21,
     "metadata": {},
     "output_type": "execute_result"
    }
   ],
   "source": [
    "#Modulo (ou resto da divisão)\n",
    "10%3"
   ]
  },
  {
   "cell_type": "code",
   "execution_count": 50,
   "id": "4ef40afe-fbc2-4742-9509-db2348f7243d",
   "metadata": {},
   "outputs": [
    {
     "name": "stdin",
     "output_type": "stream",
     "text": [
      "Digite um número inteiro:  -12\n"
     ]
    },
    {
     "name": "stdout",
     "output_type": "stream",
     "text": [
      "O número  -12 é par!\n"
     ]
    }
   ],
   "source": [
    "#Exemplo prático do uso do modulo\n",
    "num5 = int(input(\"Digite um número inteiro: \")) #Só existe par ou ímpar para números inteiros (matemática)\n",
    "if (num5%2)==0:\n",
    "    print(\"O número \",num5,\"é par!\")\n",
    "else:\n",
    "    print(\"O número \",num5,\"é ímpar!\")"
   ]
  },
  {
   "cell_type": "code",
   "execution_count": 55,
   "id": "b8c580ab-97c0-4c86-b793-c499afe5b4e7",
   "metadata": {},
   "outputs": [
    {
     "name": "stdin",
     "output_type": "stream",
     "text": [
      "Digite um número inteiro:  11.2\n"
     ]
    },
    {
     "name": "stdout",
     "output_type": "stream",
     "text": [
      "ÍMPAR\n"
     ]
    }
   ],
   "source": [
    "#Podemos garantir que somente a parte inteira de um float digitado seja considerada, utilizando arredondamento (round)\n",
    "num5 = float(input(\"Digite um número inteiro: \")) \n",
    "num5_arredondado = round(num5)\n",
    "if num5_arredondado % 2 == 0:\n",
    "    print(\"PAR\")\n",
    "else:\n",
    "    print(\"ÍMPAR\")"
   ]
  },
  {
   "cell_type": "code",
   "execution_count": 8,
   "id": "4514af15-d181-4cde-899f-c50ef63fd8c9",
   "metadata": {},
   "outputs": [
    {
     "data": {
      "text/plain": [
       "25"
      ]
     },
     "execution_count": 8,
     "metadata": {},
     "output_type": "execute_result"
    }
   ],
   "source": [
    "#Exponenciação\n",
    "5**2"
   ]
  },
  {
   "cell_type": "code",
   "execution_count": 18,
   "id": "18f5441b-b85b-49e8-a21c-5b5eaf77832d",
   "metadata": {},
   "outputs": [
    {
     "data": {
      "text/plain": [
       "1"
      ]
     },
     "execution_count": 18,
     "metadata": {},
     "output_type": "execute_result"
    }
   ],
   "source": [
    "#Precedência matemática\n",
    "#O resultado da expressão a seguir é 11, certo ou errado?\n",
    "10-7*2+5"
   ]
  },
  {
   "cell_type": "code",
   "execution_count": 19,
   "id": "a99c7f9d-4dd2-47b4-90c7-ac1ceeb449d3",
   "metadata": {},
   "outputs": [
    {
     "data": {
      "text/plain": [
       "11"
      ]
     },
     "execution_count": 19,
     "metadata": {},
     "output_type": "execute_result"
    }
   ],
   "source": [
    "#Para o resultado ser igual a 11, devemos isolar a precedência matemática\n",
    "#As operações são avaliadas na seguinte ordem: primeiro parênteses, depois expoentes,\n",
    "#seguidos por multiplicação e divisão (da esquerda para a direita) e, por fim, adição e subtração\n",
    "#(da esquerda para a direita)\n",
    "(10-7)*2+5"
   ]
  },
  {
   "cell_type": "code",
   "execution_count": null,
   "id": "75378f9e-9804-4b0f-9a44-ded64bccafd9",
   "metadata": {},
   "outputs": [],
   "source": []
  }
 ],
 "metadata": {
  "kernelspec": {
   "display_name": "Python [conda env:base] *",
   "language": "python",
   "name": "conda-base-py"
  },
  "language_info": {
   "codemirror_mode": {
    "name": "ipython",
    "version": 3
   },
   "file_extension": ".py",
   "mimetype": "text/x-python",
   "name": "python",
   "nbconvert_exporter": "python",
   "pygments_lexer": "ipython3",
   "version": "3.13.5"
  }
 },
 "nbformat": 4,
 "nbformat_minor": 5
}
